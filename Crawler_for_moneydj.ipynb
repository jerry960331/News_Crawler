{
 "cells": [
  {
   "cell_type": "markdown",
   "metadata": {},
   "source": [
    "# MoneyDJ 台股 新聞爬蟲"
   ]
  },
  {
   "cell_type": "code",
   "execution_count": 1,
   "metadata": {},
   "outputs": [],
   "source": [
    "import requests\n",
    "from bs4 import BeautifulSoup\n",
    "import os "
   ]
  },
  {
   "cell_type": "markdown",
   "metadata": {},
   "source": [
    "# 輸入一個新聞專欄的主頁面，會回傳最後一頁的頁碼"
   ]
  },
  {
   "cell_type": "code",
   "execution_count": 2,
   "metadata": {},
   "outputs": [],
   "source": [
    "def get_final_page(News_home_url):\n",
    "    ## soup -> 取得該網頁頁面的 html 標籤\n",
    "    soup = BeautifulSoup(requests.get(News_home_url).text, \"lxml\")   \n",
    "    ## 要找到最後一頁的網址 要從class為 \"paging3\"擷取\n",
    "    final_page = int(soup.select_one(\".paging3\").select(\"td\")[-1].select_one(\"a\").get(\"href\").split(\"index1=\")[1].split(\"&svc=\")[0]) \n",
    "    return final_page"
   ]
  },
  {
   "cell_type": "markdown",
   "metadata": {},
   "source": [
    "# 輸入一個新聞頁面的網站，會回傳該頁面上的新聞清單"
   ]
  },
  {
   "cell_type": "code",
   "execution_count": 3,
   "metadata": {},
   "outputs": [],
   "source": [
    "def get_new_list(News_page_url):\n",
    "    soup = BeautifulSoup(requests.get(News_page_url).text, \"lxml\")\n",
    "    ## 取得一頁面的全部新聞清單\n",
    "    news_list = soup.select_one(\".forumgrid\").select(\".ArticleTitle\")\n",
    "    return news_list"
   ]
  },
  {
   "cell_type": "markdown",
   "metadata": {},
   "source": [
    "# 輸入一個路徑，會檢查該路徑是否存在，若不在則產生資料夾"
   ]
  },
  {
   "cell_type": "code",
   "execution_count": 4,
   "metadata": {},
   "outputs": [],
   "source": [
    "def check_and_mkdir(News_DB_path):\n",
    "    ## os.path.isdir -> 檢查路徑是否存在\n",
    "    if not(os.path.isdir(News_DB_path)):\n",
    "        ## 若不存在，使用os.makedirs -> 來建立路徑資料夾\n",
    "        os.makedirs(News_DB_path)"
   ]
  },
  {
   "cell_type": "markdown",
   "metadata": {},
   "source": [
    "# 輸入一個新聞的網址，可以爬取標題、時間及內文，並儲存為TXT檔"
   ]
  },
  {
   "cell_type": "code",
   "execution_count": 5,
   "metadata": {},
   "outputs": [],
   "source": [
    "def save_news(one_news_url):\n",
    "    ## 此自訂函式會取得新聞的標題及時間，並組合為要存檔的檔名\n",
    "    ## 因為檔名不能存在 #,%,*,&,|,\\,/,?,>,<,:,\" 等符號，故如果檔名有不符合符號則取代為 _\n",
    "    def get_file_name():\n",
    "        new_title = soup.select_one(\".viewer_tl\").text.strip()\n",
    "        new_time = soup.select_one(\"#ctl00_ctl00_MainContent_Contents_lbDate\").text.strip().replace(\"/\",\"_\").replace(\" \",\"_\").replace(\":\",\"_\")\n",
    "        file_name = new_time + \" \" + new_title\n",
    "        symbol=[\"#\",\"%\",\"*\",'&','|','\\\\','/','?','>','<',\":\",'\"']\n",
    "        for s in file_name:\n",
    "            if s in symbol:\n",
    "                file_name = file_name.replace(s,\"_\")\n",
    "        return file_name + \".txt\" \n",
    "\n",
    "\n",
    "    ## 取得新聞的HTML標籤\n",
    "    soup = BeautifulSoup(requests.get(one_news_url).text, \"lxml\")\n",
    "    ## 取得要存檔的檔名\n",
    "    file_name = get_file_name()\n",
    "\n",
    "    ##如果檔案已經在我們資料夾中，則Pass\n",
    "    if file_name in os.listdir(News_DB_path):\n",
    "        #print(\"Pass News : \", file_name)\n",
    "        raise Cralwer_Done\n",
    "        \n",
    "    else:\n",
    "        ## news_content 為要寫入TXT檔的內文\n",
    "        news_content = \"\"\n",
    "        ## 文本一開始為新聞標題及時間\n",
    "        news_content += soup.select_one(\".viewer_tl\").text.strip() + \"\\n\" + soup.select_one(\"#ctl00_ctl00_MainContent_Contents_lbDate\").text.strip() \n",
    "        ## 發現每個內文的標籤為p，故以迴圈讀取每個上的文字，以累計的方式寫在news_content\n",
    "        for p in soup.select_one(\"article\").select(\"p\"):\n",
    "            news_content += \"\\n\"\n",
    "            news_content += p.text\n",
    "        ## 最後把news_content存成txt檔，編碼為utf8\n",
    "        with open(os.path.join(News_DB_path, file_name), \"w\", encoding=\"utf8\") as writer:\n",
    "            writer.write(news_content)"
   ]
  },
  {
   "cell_type": "markdown",
   "metadata": {},
   "source": [
    "# 定義爬蟲完成例外以及離開爬蟲變數"
   ]
  },
  {
   "cell_type": "code",
   "execution_count": 6,
   "metadata": {},
   "outputs": [],
   "source": [
    "class Cralwer_Done(Exception):\n",
    "    pass\n",
    "\n",
    "terminal_cralwer = False\n",
    "repeat = 0"
   ]
  },
  {
   "cell_type": "markdown",
   "metadata": {},
   "source": [
    "# 主要程式開始"
   ]
  },
  {
   "cell_type": "code",
   "execution_count": 7,
   "metadata": {},
   "outputs": [
    {
     "ename": "FeatureNotFound",
     "evalue": "Couldn't find a tree builder with the features you requested: lxml. Do you need to install a parser library?",
     "output_type": "error",
     "traceback": [
      "\u001B[0;31m---------------------------------------------------------------------------\u001B[0m",
      "\u001B[0;31mFeatureNotFound\u001B[0m                           Traceback (most recent call last)",
      "\u001B[0;32m/tmp/ipykernel_12172/3684730196.py\u001B[0m in \u001B[0;36m<module>\u001B[0;34m\u001B[0m\n\u001B[1;32m      6\u001B[0m \u001B[0mNews_home_url\u001B[0m \u001B[0;34m=\u001B[0m \u001B[0;34m\"https://www.moneydj.com/KMDJ/Common/ListNewArticles.aspx?index1=2&svc=NW&a=X0100001\"\u001B[0m\u001B[0;34m\u001B[0m\u001B[0;34m\u001B[0m\u001B[0m\n\u001B[1;32m      7\u001B[0m \u001B[0;31m## 取得最後一頁頁碼\u001B[0m\u001B[0;34m\u001B[0m\u001B[0;34m\u001B[0m\u001B[0;34m\u001B[0m\u001B[0m\n\u001B[0;32m----> 8\u001B[0;31m \u001B[0mfinal_page\u001B[0m \u001B[0;34m=\u001B[0m \u001B[0mget_final_page\u001B[0m\u001B[0;34m(\u001B[0m\u001B[0mNews_home_url\u001B[0m\u001B[0;34m)\u001B[0m\u001B[0;34m\u001B[0m\u001B[0;34m\u001B[0m\u001B[0m\n\u001B[0m\u001B[1;32m      9\u001B[0m \u001B[0;31m## 以迴圈讀取每一頁\u001B[0m\u001B[0;34m\u001B[0m\u001B[0;34m\u001B[0m\u001B[0;34m\u001B[0m\u001B[0m\n\u001B[1;32m     10\u001B[0m \u001B[0;32mfor\u001B[0m \u001B[0mpage\u001B[0m \u001B[0;32min\u001B[0m \u001B[0mrange\u001B[0m\u001B[0;34m(\u001B[0m\u001B[0;36m1\u001B[0m\u001B[0;34m,\u001B[0m \u001B[0mfinal_page\u001B[0m \u001B[0;34m+\u001B[0m \u001B[0;36m1\u001B[0m \u001B[0;34m)\u001B[0m\u001B[0;34m:\u001B[0m\u001B[0;34m\u001B[0m\u001B[0;34m\u001B[0m\u001B[0m\n",
      "\u001B[0;32m/tmp/ipykernel_12172/2869225298.py\u001B[0m in \u001B[0;36mget_final_page\u001B[0;34m(News_home_url)\u001B[0m\n\u001B[1;32m      1\u001B[0m \u001B[0;32mdef\u001B[0m \u001B[0mget_final_page\u001B[0m\u001B[0;34m(\u001B[0m\u001B[0mNews_home_url\u001B[0m\u001B[0;34m)\u001B[0m\u001B[0;34m:\u001B[0m\u001B[0;34m\u001B[0m\u001B[0;34m\u001B[0m\u001B[0m\n\u001B[1;32m      2\u001B[0m     \u001B[0;31m## soup -> 取得該網頁頁面的 html 標籤\u001B[0m\u001B[0;34m\u001B[0m\u001B[0;34m\u001B[0m\u001B[0;34m\u001B[0m\u001B[0m\n\u001B[0;32m----> 3\u001B[0;31m     \u001B[0msoup\u001B[0m \u001B[0;34m=\u001B[0m \u001B[0mBeautifulSoup\u001B[0m\u001B[0;34m(\u001B[0m\u001B[0mrequests\u001B[0m\u001B[0;34m.\u001B[0m\u001B[0mget\u001B[0m\u001B[0;34m(\u001B[0m\u001B[0mNews_home_url\u001B[0m\u001B[0;34m)\u001B[0m\u001B[0;34m.\u001B[0m\u001B[0mtext\u001B[0m\u001B[0;34m,\u001B[0m \u001B[0;34m\"lxml\"\u001B[0m\u001B[0;34m)\u001B[0m\u001B[0;34m\u001B[0m\u001B[0;34m\u001B[0m\u001B[0m\n\u001B[0m\u001B[1;32m      4\u001B[0m     \u001B[0;31m## 要找到最後一頁的網址 要從class為 \"paging3\"擷取\u001B[0m\u001B[0;34m\u001B[0m\u001B[0;34m\u001B[0m\u001B[0;34m\u001B[0m\u001B[0m\n\u001B[1;32m      5\u001B[0m     \u001B[0mfinal_page\u001B[0m \u001B[0;34m=\u001B[0m \u001B[0mint\u001B[0m\u001B[0;34m(\u001B[0m\u001B[0msoup\u001B[0m\u001B[0;34m.\u001B[0m\u001B[0mselect_one\u001B[0m\u001B[0;34m(\u001B[0m\u001B[0;34m\".paging3\"\u001B[0m\u001B[0;34m)\u001B[0m\u001B[0;34m.\u001B[0m\u001B[0mselect\u001B[0m\u001B[0;34m(\u001B[0m\u001B[0;34m\"td\"\u001B[0m\u001B[0;34m)\u001B[0m\u001B[0;34m[\u001B[0m\u001B[0;34m-\u001B[0m\u001B[0;36m1\u001B[0m\u001B[0;34m]\u001B[0m\u001B[0;34m.\u001B[0m\u001B[0mselect_one\u001B[0m\u001B[0;34m(\u001B[0m\u001B[0;34m\"a\"\u001B[0m\u001B[0;34m)\u001B[0m\u001B[0;34m.\u001B[0m\u001B[0mget\u001B[0m\u001B[0;34m(\u001B[0m\u001B[0;34m\"href\"\u001B[0m\u001B[0;34m)\u001B[0m\u001B[0;34m.\u001B[0m\u001B[0msplit\u001B[0m\u001B[0;34m(\u001B[0m\u001B[0;34m\"index1=\"\u001B[0m\u001B[0;34m)\u001B[0m\u001B[0;34m[\u001B[0m\u001B[0;36m1\u001B[0m\u001B[0;34m]\u001B[0m\u001B[0;34m.\u001B[0m\u001B[0msplit\u001B[0m\u001B[0;34m(\u001B[0m\u001B[0;34m\"&svc=\"\u001B[0m\u001B[0;34m)\u001B[0m\u001B[0;34m[\u001B[0m\u001B[0;36m0\u001B[0m\u001B[0;34m]\u001B[0m\u001B[0;34m)\u001B[0m\u001B[0;34m\u001B[0m\u001B[0;34m\u001B[0m\u001B[0m\n",
      "\u001B[0;32m~/anaconda3/envs/projectV/lib/python3.8/site-packages/bs4/__init__.py\u001B[0m in \u001B[0;36m__init__\u001B[0;34m(self, markup, features, builder, parse_only, from_encoding, exclude_encodings, element_classes, **kwargs)\u001B[0m\n\u001B[1;32m    243\u001B[0m             \u001B[0mbuilder_class\u001B[0m \u001B[0;34m=\u001B[0m \u001B[0mbuilder_registry\u001B[0m\u001B[0;34m.\u001B[0m\u001B[0mlookup\u001B[0m\u001B[0;34m(\u001B[0m\u001B[0;34m*\u001B[0m\u001B[0mfeatures\u001B[0m\u001B[0;34m)\u001B[0m\u001B[0;34m\u001B[0m\u001B[0;34m\u001B[0m\u001B[0m\n\u001B[1;32m    244\u001B[0m             \u001B[0;32mif\u001B[0m \u001B[0mbuilder_class\u001B[0m \u001B[0;32mis\u001B[0m \u001B[0;32mNone\u001B[0m\u001B[0;34m:\u001B[0m\u001B[0;34m\u001B[0m\u001B[0;34m\u001B[0m\u001B[0m\n\u001B[0;32m--> 245\u001B[0;31m                 raise FeatureNotFound(\n\u001B[0m\u001B[1;32m    246\u001B[0m                     \u001B[0;34m\"Couldn't find a tree builder with the features you \"\u001B[0m\u001B[0;34m\u001B[0m\u001B[0;34m\u001B[0m\u001B[0m\n\u001B[1;32m    247\u001B[0m                     \u001B[0;34m\"requested: %s. Do you need to install a parser library?\"\u001B[0m\u001B[0;34m\u001B[0m\u001B[0;34m\u001B[0m\u001B[0m\n",
      "\u001B[0;31mFeatureNotFound\u001B[0m: Couldn't find a tree builder with the features you requested: lxml. Do you need to install a parser library?"
     ]
    }
   ],
   "source": [
    "## 檢查資料夾路徑是否存在\n",
    "## 檢查資料 \n",
    "News_DB_path = os.path.join(\"./NewsDB\", \"moneydj\")\n",
    "check_and_mkdir(News_DB_path)\n",
    "## 進入主頁\n",
    "News_home_url = \"https://www.moneydj.com/KMDJ/Common/ListNewArticles.aspx?index1=2&svc=NW&a=X0100001\"\n",
    "## 取得最後一頁頁碼\n",
    "final_page = get_final_page(News_home_url)\n",
    "## 以迴圈讀取每一頁\n",
    "for page in range(1, final_page + 1 ):\n",
    "    News_page_url = \"https://www.moneydj.com/KMDJ/Common/ListNewArticles.aspx?index1=%d&svc=NW&a=X0100001\"%page\n",
    "    ## 取得一頁上的新聞清單\n",
    "    news_list = get_new_list(News_page_url)\n",
    "    ## 以迴圈讀取新聞清單的每一個新聞\n",
    "    for news_el in news_list:\n",
    "        ## 取得新聞的網址\n",
    "        one_news_url = \"https://www.moneydj.com\" + news_el.select_one(\"a\").get(\"href\")\n",
    "        try:\n",
    "            save_news(one_news_url)\n",
    "        except Cralwer_Done:\n",
    "            if repeat < 3:\n",
    "                repeat+=1\n",
    "            else:\n",
    "                terminal_cralwer = True\n",
    "                break\n",
    "    if terminal_cralwer:\n",
    "        print(\"結束爬蟲\")\n",
    "        break\n",
    "print(\"moneydj crawler done !! \")"
   ]
  },
  {
   "cell_type": "code",
   "execution_count": null,
   "metadata": {
    "collapsed": true
   },
   "outputs": [],
   "source": []
  }
 ],
 "metadata": {
  "kernelspec": {
   "display_name": "Python 3",
   "language": "python",
   "name": "python3"
  },
  "language_info": {
   "codemirror_mode": {
    "name": "ipython",
    "version": 3
   },
   "file_extension": ".py",
   "mimetype": "text/x-python",
   "name": "python",
   "nbconvert_exporter": "python",
   "pygments_lexer": "ipython3",
   "version": "3.6.4"
  }
 },
 "nbformat": 4,
 "nbformat_minor": 2
}